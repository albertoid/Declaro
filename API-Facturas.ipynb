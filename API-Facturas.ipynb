{
 "cells": [
  {
   "cell_type": "markdown",
   "metadata": {},
   "source": [
    "# API Facturas\n",
    "API para la extraccion de facturas del sitio del SAT"
   ]
  },
  {
   "cell_type": "markdown",
   "metadata": {},
   "source": [
    "## 0. Carga de librerias"
   ]
  },
  {
   "cell_type": "code",
   "execution_count": 531,
   "metadata": {},
   "outputs": [
    {
     "name": "stdout",
     "output_type": "stream",
     "text": [
      "Populating the interactive namespace from numpy and matplotlib\n"
     ]
    }
   ],
   "source": [
    "from selenium import webdriver\n",
    "from selenium.webdriver.common.keys import Keys\n",
    "import base64\n",
    "from PIL import Image #Libreria para el manejod e imagenes\n",
    "import io\n",
    "from selenium.webdriver.support.ui import Select\n",
    "import selenium.webdriver.support.ui as ui\n",
    "from selenium.webdriver.common.action_chains import ActionChains\n",
    "import time\n",
    "from tqdm import tqdm_notebook as tqdm\n",
    "from os import listdir, remove\n",
    "from os.path import isfile, join\n",
    "import pathlib\n",
    "\n",
    "%pylab inline\n",
    "import matplotlib.pyplot as plt\n",
    "import matplotlib.image as mpimg\n",
    "\n",
    "from selenium.webdriver.support import expected_conditions as EC\n",
    "\n",
    "import warnings\n",
    "warnings.filterwarnings(\"ignore\")"
   ]
  },
  {
   "cell_type": "markdown",
   "metadata": {},
   "source": [
    "## 1. Funciones"
   ]
  },
  {
   "cell_type": "code",
   "execution_count": 722,
   "metadata": {},
   "outputs": [],
   "source": [
    "#lookuptag\n",
    "\n",
    "#Descripción General: Funcion para buscar un texto específico en etiquetas similares\n",
    "#Recibe: Lista de elementos (list_elements) que puede venir de un driver.find_elements...\n",
    "#Recibe: Texto para comparar (selected_string) que debe ser igual al texto que se esta buscando\n",
    "#Recibe: Despligue (verbose) para ver todos los elementos de la lista. False por default\n",
    "#Regresa: Elemento seleccionado o en caso de no encontrar nada None\n",
    "\n",
    "def lookuptag(list_elements,selected_string,verbose=False):\n",
    "    if verbose == True:\n",
    "        for i,e in enumerate(list_elements):\n",
    "            print(i,\":\", e.text)\n",
    "    else:\n",
    "        pass\n",
    "    \n",
    "    for i,e in enumerate(list_elements):\n",
    "        if e.text == selected_string:\n",
    "            return e\n",
    "        else:\n",
    "            pass\n",
    "    return None"
   ]
  },
  {
   "cell_type": "code",
   "execution_count": 609,
   "metadata": {},
   "outputs": [],
   "source": [
    "#loadok\n",
    "\n",
    "#Descripcion General: Funcion para asegurar la carga de una página despues de una secuencia\n",
    "#Recibe: elemento de Selenium\n",
    "#Recibe: tiempo en segundos de cada refrescado (refresh)\n",
    "#Recibe: Maximo número de intentos para varificar que el elemento se cargo (max_tries)\n",
    "#Recibe: Una etiqueta para identificar el elemento de prueba (stage) por default \"\"\n",
    "#Recibe: Despliegue (verbose) para verificar el estado de la validación\n",
    "#Regresa: None\n",
    "\n",
    "def loadok(element, refresh=1, max_tries=3, stage=\"\",verbose=True):\n",
    "    loaded=False\n",
    "    tries=0\n",
    "    \n",
    "    while 1:\n",
    "        try:\n",
    "            element\n",
    "            loaded=True\n",
    "            if verbose == True:\n",
    "                return print(stage+\"loaded [ok]\")\n",
    "            else:\n",
    "                return None\n",
    "        except:\n",
    "            tries = tries + 1\n",
    "            loaded=False\n",
    "            time.sleep(refresh*tries)\n",
    "            \n",
    "            if tries >= max_tries:\n",
    "                if verbose == True:\n",
    "                    return print(\"Número de intentos superado. La página no ha cargado correctamente\")\n",
    "                else:\n",
    "                    return None\n",
    "    \n",
    "    "
   ]
  },
  {
   "cell_type": "markdown",
   "metadata": {},
   "source": [
    "## 2. Login en  página del SAT"
   ]
  },
  {
   "cell_type": "markdown",
   "metadata": {},
   "source": [
    "Recibe Datos de Usuario y Captcha"
   ]
  },
  {
   "cell_type": "code",
   "execution_count": 709,
   "metadata": {},
   "outputs": [
    {
     "name": "stdout",
     "output_type": "stream",
     "text": [
      "loaded [ok]\n"
     ]
    },
    {
     "data": {
      "image/png": "[encoded data removed]",
      "text/plain": [
       "<Figure size 432x288 with 1 Axes>"
      ]
     },
     "metadata": {
      "needs_background": "light"
     },
     "output_type": "display_data"
    }
   ],
   "source": [
    "#Deteccion de la raiz de los archivos\n",
    "directorio=pathlib.Path().absolute()\n",
    "filespath=str(directorio)+'/temp'\n",
    "\n",
    "#Seleccion de carpeta temporal para descarga de archivow\n",
    "chrome_options = webdriver.ChromeOptions()\n",
    "prefs = {'download.default_directory' : filespath}\n",
    "chrome_options.add_experimental_option('prefs', prefs)\n",
    "options = webdriver.ChromeOptions() \n",
    "options.add_argument(\"download.default_directory=\"+filespath)\n",
    "\n",
    "#Inicializacion de driver de Selenium\n",
    "driver = webdriver.Chrome(chrome_options=chrome_options)\n",
    "\n",
    "#Inicializar Navegador y entrar a pagina web\n",
    "driver.get(\"https://portalcfdi.facturaelectronica.sat.gob.mx/\")\n",
    "\n",
    "#Espera dináminca de la carga del captcha\n",
    "loadok(driver.find_elements_by_tag_name(\"img\"))\n",
    "\n",
    "#Obtener Captcha\n",
    "images=driver.find_elements_by_tag_name(\"img\")\n",
    "captcha = images[1].get_attribute('src')[23:]\n",
    "\n",
    "#Integrar Captcha\n",
    "image_decoded = base64.b64decode(str(captcha))       \n",
    "image = Image.open(io.BytesIO(image_decoded))\n",
    "\n",
    "#Mostrar captcha en jupiter notebook\n",
    "imgplot = plt.imshow(image)\n",
    "plt.show()\n",
    "\n",
    "#Guardar Captcha\n",
    "\n",
    "#fileName = 'captcha.jpeg'\n",
    "#imagePath = (\"captcha.jpeg\")\n",
    "#image.save(imagePath, 'jpeg')"
   ]
  },
  {
   "cell_type": "code",
   "execution_count": 710,
   "metadata": {},
   "outputs": [
    {
     "name": "stdout",
     "output_type": "stream",
     "text": [
      "Ingresa el Captcha:NDTHPH\n"
     ]
    }
   ],
   "source": [
    "#Enviar Captcha y solicitar rfc, pwd y cap\n",
    "#str_rfc=input(\"Ingresa tu RFC:\")\n",
    "#str_pwd=input(\"Ingresa tu contraseña:\")\n",
    "str_rfc='IADA810218HG5'\n",
    "str_pwd='DaSa0520'\n",
    "str_cap=input(\"Ingresa el Captcha:\")"
   ]
  },
  {
   "cell_type": "markdown",
   "metadata": {},
   "source": [
    "## 3. Robot de navegacion y descarga de facturas"
   ]
  },
  {
   "cell_type": "code",
   "execution_count": 711,
   "metadata": {},
   "outputs": [
    {
     "name": "stdout",
     "output_type": "stream",
     "text": [
      "loaded [ok]\n",
      "loaded [ok]\n",
      "loaded [ok]\n",
      "loaded [ok]\n"
     ]
    }
   ],
   "source": [
    "#Ingreso de credenciales\n",
    "rfc = driver.find_element_by_id(\"rfc\")\n",
    "rfc.clear()\n",
    "rfc.send_keys(str_rfc)\n",
    "\n",
    "pwd=driver.find_element_by_id(\"password\")\n",
    "pwd.clear()\n",
    "pwd.send_keys(str_pwd)\n",
    "\n",
    "cap=driver.find_element_by_id(\"userCaptcha\")\n",
    "cap.clear()\n",
    "cap.send_keys(str_cap)\n",
    "\n",
    "btn_Login=driver.find_element_by_id(\"submit\")\n",
    "btn_Login.click()\n",
    "\n",
    "#Click en Consultar Facturas Recibidas\n",
    "loadok(driver.find_element_by_link_text(\"Consultar Facturas Recibidas\"))\n",
    "lnk_Emitidas= driver.find_element_by_link_text(\"Consultar Facturas Recibidas\")\n",
    "lnk_Emitidas.click()\n",
    "\n",
    "#Selección del tipo de busqueda de facturas \"Por fecha\"\n",
    "loadok(driver.find_element_by_id(\"ctl00_MainContent_RdoFechas\"))\n",
    "sel_fecha_emision=driver.find_element_by_id(\"ctl00_MainContent_RdoFechas\")\n",
    "sel_fecha_emision.click()\n",
    "\n",
    "#Selección del mes\n",
    "mes= 12 if time.localtime().tm_mon == 1 else time.localtime().tm_mon\n",
    "loadok(Select(driver.find_element_by_id('ctl00_MainContent_CldFecha_DdlMes')))\n",
    "sel_mes = Select(driver.find_element_by_id('ctl00_MainContent_CldFecha_DdlMes'))\n",
    "sel_mes.select_by_value(mes)\n",
    "\n",
    "#Click en el boton de búsqueda de las facturas del mes\n",
    "loadok(driver.find_element_by_name(\"ctl00$MainContent$BtnBusqueda\"))\n",
    "btn_BuscarCFDI=driver.find_element_by_name(\"ctl00$MainContent$BtnBusqueda\")\n",
    "btn_BuscarCFDI.click()\n",
    "\n",
    "\n",
    "#Seleccion del Año\n",
    "\n",
    "anno= time.localtime().tm_year - 1 if time.localtime().tm_mon == 1 else time.localtime().tm_year\n",
    "\n",
    "## Scraping pendiente de la seleccion del año ------------------ !!!!\n",
    "\n",
    "#Descarga de todas las facturas en las páginas disponibles\n",
    "fallos=[]\n",
    "btns_Descarga=[]\n",
    "btns_Descarga = driver.find_elements_by_id(\"BtnDescarga\")\n",
    "\n",
    "for j in tqdm(range(len(btns_Descarga)),'Facturas'):\n",
    "    try:\n",
    "        driver.execute_script(btns_Descarga[j].get_attribute('onclick')) #Ejecuta el metodo de Java Script para la descarga\n",
    "        #Verificacion de descarga --- OPTIMIZACION PENDIENTE TIP: Comparar nombre de archivo con el desplegado en la pagina\n",
    "        time.sleep(3)\n",
    "        loadok(driver.switch_to_window(driver.window_handles[1]),stage=str(j),verbose=False) #Mueve el foco a la ventana de descarga\n",
    "        driver.close()  #Cierra pagina de descarga\n",
    "        driver.switch_to_window(driver.window_handles[0])    \n",
    "    except:\n",
    "        fallos.append(j)"
   ]
  },
  {
   "cell_type": "code",
   "execution_count": 719,
   "metadata": {},
   "outputs": [
    {
     "name": "stdout",
     "output_type": "stream",
     "text": [
      "loaded [ok]\n",
      "loaded [ok]\n",
      "loaded [ok]\n",
      "loaded [ok]\n"
     ]
    }
   ],
   "source": [
    "#Cambio a Pagina de Facturas Emitidas\n",
    "\n",
    "#Regreso a Inicio\n",
    "loadok(driver.find_elements_by_tag_name('a'))\n",
    "btn_Inicio=lookuptag(driver.find_elements_by_tag_name('a'), 'Inicio')\n",
    "btn_Inicio.click()\n",
    "\n",
    "#Click en Consultar Facturas Recibidas\n",
    "loadok(driver.find_element_by_link_text(\"Consultar Facturas Emitidas\"))\n",
    "lnk_Emitidas= driver.find_element_by_link_text(\"Consultar Facturas Emitidas\")\n",
    "lnk_Emitidas.click()\n",
    "\n",
    "#Selección del tipo de busqueda de facturas \"Por fecha\"\n",
    "loadok(driver.find_element_by_id(\"ctl00_MainContent_RdoFechas\"))\n",
    "sel_fecha_emision=driver.find_element_by_id(\"ctl00_MainContent_RdoFechas\")\n",
    "sel_fecha_emision.click()\n",
    "#Selección de fechas inicial y final\n",
    "fecha_inicial=\"'01/01/2020'\"\n",
    "driver.execute_script(\"updateDateField('ctl00$MainContent$CldFechaInicial2$Calendario_text',\"+fecha_inicial+\");\")\n",
    "fecha_final=\"'31/01/2020'\"\n",
    "driver.execute_script(\"updateDateField('ctl00$MainContent$CldFechaFinal2$Calendario_text',\"+fecha_final+\");\")\n",
    "#Click en el boton de búsqueda de las facturas del mes\n",
    "loadok(driver.find_element_by_name(\"ctl00$MainContent$BtnBusqueda\"))\n",
    "btn_BuscarCFDI=driver.find_element_by_name(\"ctl00$MainContent$BtnBusqueda\")\n",
    "btn_BuscarCFDI.click()"
   ]
  },
  {
   "cell_type": "code",
   "execution_count": 721,
   "metadata": {},
   "outputs": [
    {
     "data": {
      "application/vnd.jupyter.widget-view+json": {
       "model_id": "6c28e6665a8c49209e5965ddba4c2028",
       "version_major": 2,
       "version_minor": 0
      },
      "text/plain": [
       "HBox(children=(FloatProgress(value=0.0, description='Facturas', max=1.0, style=ProgressStyle(description_width…"
      ]
     },
     "metadata": {},
     "output_type": "display_data"
    },
    {
     "name": "stdout",
     "output_type": "stream",
     "text": [
      "\n"
     ]
    }
   ],
   "source": [
    "#Descarga de facturas emitidas\n",
    "fallos=[]\n",
    "btns_Descarga=[]\n",
    "btns_Descarga = driver.find_elements_by_id(\"BtnDescarga\")\n",
    "\n",
    "for j in tqdm(range(len(btns_Descarga)),'Facturas'):\n",
    "    try:\n",
    "        driver.execute_script(btns_Descarga[j].get_attribute('onclick')) #Ejecuta el metodo de Java Script para la descarga\n",
    "        #Verificacion de descarga --- OPTIMIZACION PENDIENTE TIP: Comparar nombre de archivo con el desplegado en la pagina\n",
    "        time.sleep(3)\n",
    "        loadok(driver.switch_to_window(driver.window_handles[1]),stage=str(j),verbose=False) #Mueve el foco a la ventana de descarga\n",
    "        driver.close()  #Cierra pagina de descarga\n",
    "        driver.switch_to_window(driver.window_handles[0])    \n",
    "    except:\n",
    "        fallos.append(j)"
   ]
  },
  {
   "cell_type": "code",
   "execution_count": 723,
   "metadata": {},
   "outputs": [],
   "source": [
    "#Fin del API de descarga de facturas\n",
    "driver.close()"
   ]
  }
 ],
 "metadata": {
  "kernelspec": {
   "display_name": "Python 3",
   "language": "python",
   "name": "python3"
  },
  "language_info": {
   "codemirror_mode": {
    "name": "ipython",
    "version": 3
   },
   "file_extension": ".py",
   "mimetype": "text/x-python",
   "name": "python",
   "nbconvert_exporter": "python",
   "pygments_lexer": "ipython3",
   "version": "3.7.6"
  }
 },
 "nbformat": 4,
 "nbformat_minor": 4
}
